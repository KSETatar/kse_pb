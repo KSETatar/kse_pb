{
 "cells": [
  {
   "cell_type": "code",
   "execution_count": 144,
   "id": "334a18b4",
   "metadata": {},
   "outputs": [
    {
     "name": "stdout",
     "output_type": "stream",
     "text": [
      "5.2\n"
     ]
    }
   ],
   "source": [
    "#1)Треба обчислити середнє арифметичне всіх чисел у списку.\n",
    "\n",
    "nums = [3, 7, 2, 9, 5]\n",
    "\n",
    "mean(nums)==float(sum(nums))/max(len(nums), 1)\n",
    "float(sum(nums))/max(len(nums), 1)\n",
    "print(mean(nums))"
   ]
  },
  {
   "cell_type": "code",
   "execution_count": 140,
   "id": "f822f6a5",
   "metadata": {},
   "outputs": [
    {
     "name": "stdout",
     "output_type": "stream",
     "text": [
      "[10, 8, 4, 2]\n"
     ]
    }
   ],
   "source": [
    "#2)Видаліть усі дублікати, залиште лише парні числа, відсортуйте їх у спадаючому порядку та виведіть результат.\n",
    "\n",
    "nums = [4, 7, 2, 4, 8, 9, 2, 10, 3, 8]\n",
    "nums = list(dict.fromkeys(nums))\n",
    "even_nums=[]\n",
    "for i in nums:\n",
    "    if i % 2 > 0:\n",
    "        continue\n",
    "    else:\n",
    "        even_nums.append(i)\n",
    "even_nums.sort(reverse=True)\n",
    "print(even_nums)"
   ]
  },
  {
   "cell_type": "code",
   "execution_count": null,
   "id": "b8684f12",
   "metadata": {},
   "outputs": [
    {
     "name": "stdout",
     "output_type": "stream",
     "text": [
      "[95, 92, 96]\n"
     ]
    }
   ],
   "source": [
    "#3)Є вкладений список оцінок студентів. Кожен підсписок — це список оцінок одного студента.\n",
    "grades = [\n",
    "    [90, 85, 88],\n",
    "    [75, 80, 79],\n",
    "    [95, 92, 96],\n",
    "    [88, 85, 84]\n",
    "]\n",
    "#Виведіть індекс студента з найвищим середнім балом, його середній бал та сам список оцінок. Приклад:\n",
    "max_grade = max(grades)\n",
    "print(max_grade)\n",
    " "
   ]
  },
  {
   "cell_type": "code",
   "execution_count": 89,
   "id": "f6e529de",
   "metadata": {},
   "outputs": [
    {
     "data": {
      "text/plain": [
       "65"
      ]
     },
     "execution_count": 89,
     "metadata": {},
     "output_type": "execute_result"
    }
   ],
   "source": [
    "#4) Є словник, де ключі — назви товарів, а значення — їхня ціна. Обчисліть загальну суму вартості всіх товарів.\n",
    "prices = {\n",
    "    \"apple\": 12,\n",
    "    \"banana\": 8,\n",
    "    \"milk\": 25,\n",
    "    \"bread\": 20\n",
    "}\n",
    "\n",
    "sum(prices.values())"
   ]
  },
  {
   "cell_type": "code",
   "execution_count": null,
   "id": "9b6ff017",
   "metadata": {},
   "outputs": [
    {
     "name": "stdout",
     "output_type": "stream",
     "text": [
      "{'Kyiv': 'Oksana', 'Lviv': 'Bohdan', 'Odesa': 'Dmytro'}\n",
      "{'Kyiv': ['Anna', 'Oksana'], 'Odesa': ['Dmytro'], 'Lviv': ['Bohdan']}\n"
     ]
    }
   ],
   "source": [
    "#5) Є словник, де ключ — ім’я, а значення — місто.\n",
    "from pickle import APPEND\n",
    "\n",
    "\n",
    "people = {\n",
    "    \"Anna\": \"Kyiv\",\n",
    "    \"Bohdan\": \"Lviv\",\n",
    "    \"Oksana\": \"Kyiv\",\n",
    "    \"Dmytro\": \"Odesa\"\n",
    "}\n",
    "\n",
    "#Створіть новий словник, де міста стануть ключами, а значенням буде список людей, які там живуть.\n",
    "#Результат\n",
    "# {\n",
    "#   \"Kyiv\": [\"Anna\", \"Oksana\"],\n",
    "#   \"Lviv\": [\"Bohdan\"],\n",
    "#   \"Odesa\": [\"Dmytro\"]\n",
    "# }\n",
    "\n",
    "newpeople = {y: x for x, y in people.items()}\n",
    "print(newpeople)\n",
    "\n",
    "#Варіант рішення неповний, перероблюєм\n",
    "\n",
    "unique_cities = [\"Kyiv\", \"Odesa\", \"Lviv\"]\n",
    "unique_names = [\"Anna\", \"Bohdan\", \"Oksana\", \"Dmytro\"]\n",
    "new_dict={}\n",
    "for i in unique_cities:\n",
    "    new_dict[i]=[]\n",
    "for key,value in people.items():\n",
    "    new_dict[value].append(key)\n",
    "\n",
    "print(new_dict)\n",
    "\n",
    "\n",
    "\n",
    " "
   ]
  },
  {
   "cell_type": "code",
   "execution_count": null,
   "id": "122cee75",
   "metadata": {},
   "outputs": [
    {
     "ename": "NameError",
     "evalue": "name 'get' is not defined",
     "output_type": "error",
     "traceback": [
      "\u001b[1;31m---------------------------------------------------------------------------\u001b[0m",
      "\u001b[1;31mNameError\u001b[0m                                 Traceback (most recent call last)",
      "Cell \u001b[1;32mIn[132], line 93\u001b[0m\n\u001b[0;32m      1\u001b[0m \u001b[38;5;66;03m#6) Знайти суму всіх транзакцій в розрізі статусів.\u001b[39;00m\n\u001b[0;32m      2\u001b[0m {\n\u001b[0;32m      3\u001b[0m   \u001b[38;5;124m\"\u001b[39m\u001b[38;5;124muser_001\u001b[39m\u001b[38;5;124m\"\u001b[39m: {\n\u001b[0;32m      4\u001b[0m     \u001b[38;5;124m\"\u001b[39m\u001b[38;5;124mtransactions\u001b[39m\u001b[38;5;124m\"\u001b[39m: [\n\u001b[1;32m   (...)\u001b[0m\n\u001b[0;32m     91\u001b[0m   }\n\u001b[0;32m     92\u001b[0m }\n\u001b[1;32m---> 93\u001b[0m \u001b[43mget\u001b[49m(\u001b[38;5;124m\"\u001b[39m\u001b[38;5;124mamount\u001b[39m\u001b[38;5;124m\"\u001b[39m)\n",
      "\u001b[1;31mNameError\u001b[0m: name 'get' is not defined"
     ]
    }
   ],
   "source": [
    "#6) Знайти суму всіх транзакцій в розрізі статусів.\n",
    "{\n",
    "  \"user_001\": {\n",
    "    \"transactions\": [\n",
    "      {\n",
    "        \"details\": {\n",
    "          \"transaction_id\": \"TXN00001\",\n",
    "          \"amount\": 123.45,\n",
    "          \"currency\": \"USD\"\n",
    "        },\n",
    "        \"meta\": {\n",
    "          \"timestamp\": \"2024-04-10T14:22:01\",\n",
    "          \"status\": \"completed\",\n",
    "          \"category\": \"groceries\"\n",
    "        },\n",
    "        \"bank_noise\": {\n",
    "          \"bank_code\": \"BANK_US_001\",\n",
    "          \"terminal_id\": \"TRM1023\",\n",
    "          \"merchant_name\": \"WholeMart City Center\"\n",
    "        }\n",
    "      },\n",
    "      {\n",
    "        \"details\": {\n",
    "          \"transaction_id\": \"TXN00002\",\n",
    "          \"amount\": 89.99,\n",
    "          \"currency\": \"USD\"\n",
    "        },\n",
    "        \"meta\": {\n",
    "          \"timestamp\": \"2024-06-25T09:11:45\",\n",
    "          \"status\": \"pending\",\n",
    "          \"category\": \"services\"\n",
    "        },\n",
    "        \"bank_noise\": {\n",
    "          \"bank_code\": \"BANK_US_002\",\n",
    "          \"terminal_id\": \"TRM1147\",\n",
    "          \"merchant_name\": \"QuickFix Repairs\"\n",
    "        }\n",
    "      },\n",
    "      {\n",
    "        \"details\": {\n",
    "          \"transaction_id\": \"TXN00003\",\n",
    "          \"amount\": 345.0,\n",
    "          \"currency\": \"USD\"\n",
    "        },\n",
    "        \"meta\": {\n",
    "          \"timestamp\": \"2024-08-17T18:05:33\",\n",
    "          \"status\": \"completed\",\n",
    "          \"category\": \"electronics\"\n",
    "        },\n",
    "        \"bank_noise\": {\n",
    "          \"bank_code\": \"BANK_EU_008\",\n",
    "          \"terminal_id\": \"TRM2011\",\n",
    "          \"merchant_name\": \"TechStore EU\"\n",
    "        }\n",
    "      },\n",
    "      {\n",
    "        \"details\": {\n",
    "          \"transaction_id\": \"TXN00004\",\n",
    "          \"amount\": 59.1,\n",
    "          \"currency\": \"USD\"\n",
    "        },\n",
    "        \"meta\": {\n",
    "          \"timestamp\": \"2024-11-03T20:14:27\",\n",
    "          \"status\": \"failed\",\n",
    "          \"category\": \"entertainment\"\n",
    "        },\n",
    "        \"bank_noise\": {\n",
    "          \"bank_code\": \"BANK_US_004\",\n",
    "          \"terminal_id\": \"TRM1455\",\n",
    "          \"merchant_name\": \"MovieZone Downtown\"\n",
    "        }\n",
    "      },\n",
    "      {\n",
    "        \"details\": {\n",
    "          \"transaction_id\": \"TXN00005\",\n",
    "          \"amount\": 210.75,\n",
    "          \"currency\": \"USD\"\n",
    "        },\n",
    "        \"meta\": {\n",
    "          \"timestamp\": \"2024-12-19T08:47:52\",\n",
    "          \"status\": \"completed\",\n",
    "          \"category\": \"clothing\"\n",
    "        },\n",
    "        \"bank_noise\": {\n",
    "          \"bank_code\": \"BANK_CA_005\",\n",
    "          \"terminal_id\": \"TRM3320\",\n",
    "          \"merchant_name\": \"FashionLoop Toronto\"\n",
    "        }\n",
    "      }\n",
    "    ]\n",
    "  }\n",
    "}\n",
    "\n",
    "Print"
   ]
  },
  {
   "cell_type": "code",
   "execution_count": 63,
   "id": "c8580c1e",
   "metadata": {},
   "outputs": [
    {
     "ename": "TypeError",
     "evalue": "unsupported operand type(s) for +: 'int' and 'str'",
     "output_type": "error",
     "traceback": [
      "\u001b[1;31m---------------------------------------------------------------------------\u001b[0m",
      "\u001b[1;31mTypeError\u001b[0m                                 Traceback (most recent call last)",
      "Cell \u001b[1;32mIn[63], line 13\u001b[0m\n\u001b[0;32m     11\u001b[0m \u001b[38;5;28;01mdef\u001b[39;00m \u001b[38;5;21mmean\u001b[39m(grades):\n\u001b[0;32m     12\u001b[0m     \u001b[38;5;28;01mreturn\u001b[39;00m \u001b[38;5;28mfloat\u001b[39m(\u001b[38;5;28msum\u001b[39m(grades)) \u001b[38;5;241m/\u001b[39m \u001b[38;5;28mmax\u001b[39m(\u001b[38;5;28mlen\u001b[39m(grades), \u001b[38;5;241m1\u001b[39m)\n\u001b[1;32m---> 13\u001b[0m \u001b[38;5;28mprint\u001b[39m(\u001b[43mmean\u001b[49m\u001b[43m(\u001b[49m\u001b[43mgrades\u001b[49m\u001b[43m)\u001b[49m)\n\u001b[0;32m     16\u001b[0m \u001b[38;5;66;03m#2. Заміни поточну структуру grades, щоб вона виглядала як:\u001b[39;00m\n\u001b[0;32m     17\u001b[0m \u001b[38;5;66;03m#grades = {\u001b[39;00m\n\u001b[0;32m     18\u001b[0m \u001b[38;5;66;03m#    \"Анна\": {\"grades\": [10, 9, 8], \"avg\": 9.0},\u001b[39;00m\n\u001b[1;32m   (...)\u001b[0m\n\u001b[0;32m     21\u001b[0m \u001b[38;5;66;03m#3. Запропонуй користувачу ввести імʼя студента з клавіатури. Якщо студент є у словнику — виведи його середню оцінку. Якщо немає — повідом, що такого студента не існує.\u001b[39;00m\n\u001b[0;32m     22\u001b[0m \u001b[38;5;66;03m#4. Додай функціональність, яка дозволяє додати нову оцінку існуючому студенту, після чого перерахувати середню оцінку.\u001b[39;00m\n",
      "Cell \u001b[1;32mIn[63], line 12\u001b[0m, in \u001b[0;36mmean\u001b[1;34m(grades)\u001b[0m\n\u001b[0;32m     11\u001b[0m \u001b[38;5;28;01mdef\u001b[39;00m \u001b[38;5;21mmean\u001b[39m(grades):\n\u001b[1;32m---> 12\u001b[0m     \u001b[38;5;28;01mreturn\u001b[39;00m \u001b[38;5;28mfloat\u001b[39m(\u001b[38;5;28;43msum\u001b[39;49m\u001b[43m(\u001b[49m\u001b[43mgrades\u001b[49m\u001b[43m)\u001b[49m) \u001b[38;5;241m/\u001b[39m \u001b[38;5;28mmax\u001b[39m(\u001b[38;5;28mlen\u001b[39m(grades), \u001b[38;5;241m1\u001b[39m)\n",
      "\u001b[1;31mTypeError\u001b[0m: unsupported operand type(s) for +: 'int' and 'str'"
     ]
    }
   ],
   "source": [
    "#Бонус) У вас є словник, де ключі — це імена студентів, а значення — списки з їхніми оцінками:\n",
    "grades = {\n",
    "    \"Анна\": [10, 9, 8],\n",
    "    \"Богдан\": [6, 5, 7],\n",
    "    \"Ірина\": [9, 9, 10],\n",
    "    \"Максим\": [4, 5, 3],\n",
    "    \"Олена\": [8, 8, 9],\n",
    "}\n",
    "#1. Для кожного студента обчисли середню оцінку та додай її до словника як окремий ключ \"avg\" в його вкладеному значенні.\n",
    "#Наприклад: \"Анна\": {\"grades\": [10, 9, 8], \"avg\": 9.0}\n",
    "def mean(grades):\n",
    "    return float(sum(grades)) / max(len(grades), 1)\n",
    "print(mean(grades))\n",
    "\n",
    "\n",
    "#2. Заміни поточну структуру grades, щоб вона виглядала як:\n",
    "#grades = {\n",
    "#    \"Анна\": {\"grades\": [10, 9, 8], \"avg\": 9.0},\n",
    "#    ...\n",
    "#}\n",
    "#3. Запропонуй користувачу ввести імʼя студента з клавіатури. Якщо студент є у словнику — виведи його середню оцінку. Якщо немає — повідом, що такого студента не існує.\n",
    "#4. Додай функціональність, яка дозволяє додати нову оцінку існуючому студенту, після чого перерахувати середню оцінку."
   ]
  }
 ],
 "metadata": {
  "kernelspec": {
   "display_name": "Python 3",
   "language": "python",
   "name": "python3"
  },
  "language_info": {
   "codemirror_mode": {
    "name": "ipython",
    "version": 3
   },
   "file_extension": ".py",
   "mimetype": "text/x-python",
   "name": "python",
   "nbconvert_exporter": "python",
   "pygments_lexer": "ipython3",
   "version": "3.13.3"
  }
 },
 "nbformat": 4,
 "nbformat_minor": 5
}
