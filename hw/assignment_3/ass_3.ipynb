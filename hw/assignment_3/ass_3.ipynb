{
 "cells": [
  {
   "cell_type": "code",
   "execution_count": null,
   "id": "9ca34a23",
   "metadata": {},
   "outputs": [],
   "source": [
    "# - Середній рівень (10 завдань):"
   ]
  },
  {
   "cell_type": "code",
   "execution_count": 5,
   "id": "accce10a",
   "metadata": {},
   "outputs": [
    {
     "name": "stdout",
     "output_type": "stream",
     "text": [
      "Числа які діляться на число X, але не діляться на число Y: [10, 20, 40, 50, 70, 80, 100]\n"
     ]
    }
   ],
   "source": [
    "# 1) Фільтрувати за кількома умовами: числа, які діляться на X, але не діляться на Y. \n",
    "\n",
    "numbers = list(range(1, 101))\n",
    "\n",
    "x = float(input(\"Введіть число X: \"))\n",
    "y = float(input(\"Введіть число Y:\"))\n",
    "\n",
    "result = []\n",
    "\n",
    "for num in numbers:\n",
    "    if num % x == 0 and num % y !=0:\n",
    "        result.append(num)\n",
    "\n",
    "print(f\"Числа які діляться на число X, але не діляться на число Y: {result}\")"
   ]
  },
  {
   "cell_type": "code",
   "execution_count": null,
   "id": "7c229dcf",
   "metadata": {},
   "outputs": [
    {
     "name": "stdout",
     "output_type": "stream",
     "text": [
      "[1, 2, 3, 4, 5, 6]\n"
     ]
    }
   ],
   "source": [
    "# 2) Зведення вкладених списків: зведення списку списків в єдиний список.\n",
    "\n",
    "listoflists = [[1,2], [3,4], [5, 6]]\n",
    "\n",
    "jedinylist = []\n",
    "\n",
    "for sublist in listoflists:\n",
    "    for item in sublist:\n",
    "        jedinylist.append(item)\n",
    "\n",
    "print(jedinylist)"
   ]
  },
  {
   "cell_type": "code",
   "execution_count": 7,
   "id": "00bc93a4",
   "metadata": {},
   "outputs": [
    {
     "name": "stdout",
     "output_type": "stream",
     "text": [
      "['I', 'F', 'I', 'R', 'E', 'B', 'A', 'L', 'L', 'L']\n"
     ]
    }
   ],
   "source": [
    "# 3) Складна маніпуляція рядками: виділіть і введіть великі літери в окремих підрядках. \n",
    "\n",
    "text = \"I cast FIREBALLL!!!\"\n",
    "capitals = []\n",
    "\n",
    "for char in text:\n",
    "    if char.isupper():\n",
    "        capitals.append(char)\n",
    "\n",
    "print(capitals)"
   ]
  },
  {
   "cell_type": "code",
   "execution_count": 62,
   "id": "ab1fa20c",
   "metadata": {},
   "outputs": [
    {
     "name": "stdout",
     "output_type": "stream",
     "text": [
      "[0, 0, 0, 1337, 1337, 420, 420, 404, 69]\n",
      "[1337, 1337, 420, 420, 404, 69, 0, 0, 0]\n"
     ]
    }
   ],
   "source": [
    "# 4) Багаторівневе сортування: сортування за спаданням, потім за частотою. \n",
    "\n",
    "# варіант 2. Ви сортуєте за частотою, а потім отриманий результат за спаданням\n",
    "\n",
    "import collections as col\n",
    "\n",
    "numbers = [0, 1337, 420, 404, 69, 420, 1337, 0, 0]\n",
    "frequency = col.Counter(numbers)\n",
    "\n",
    "sort_by_frequncy = sorted(numbers, key=lambda x: (frequency[x], x), reverse=True)\n",
    "\n",
    "print(sort_by_frequncy)\n",
    "\n",
    "sort_final = sorted(sort_by_frequncy, key=lambda x: -x)\n",
    "\n",
    "print(sort_final)\n",
    "\n"
   ]
  },
  {
   "cell_type": "code",
   "execution_count": 50,
   "id": "2f8b671c",
   "metadata": {},
   "outputs": [
    {
     "name": "stdout",
     "output_type": "stream",
     "text": [
      "[1, 2, 3, 4, 5, 6, 9]\n"
     ]
    }
   ],
   "source": [
    "# 5) Об’єднати списки умовно: об’єднати два списки на основі умов.\n",
    "\n",
    "list1=[1, 2, 3, 4, 5]\n",
    "list2=[4, 6, 9, 5]\n",
    "list3 = []\n",
    "\n",
    "for items in (list1, list2):\n",
    "    for item in items:\n",
    "        if item not in list3:\n",
    "            list3.append(item)\n",
    "\n",
    "print(list3)"
   ]
  },
  {
   "cell_type": "code",
   "execution_count": 34,
   "id": "0d1d793d",
   "metadata": {},
   "outputs": [
    {
     "name": "stdout",
     "output_type": "stream",
     "text": [
      "{'a': 4, 'b': 2, 'c': 6}\n"
     ]
    }
   ],
   "source": [
    "# 6) Агрегація словника: сума значень у словнику за ключем.\n",
    "\n",
    "data = [{'a': 1, 'b': 2}, {'a': 3, 'c': 6}]\n",
    "aggregated = {}\n",
    "\n",
    "for dictionary in data:\n",
    "    for key in dictionary:\n",
    "        if key in aggregated:\n",
    "            aggregated[key] += dictionary[key]\n",
    "        else: \n",
    "            aggregated[key] = dictionary[key]\n",
    "\n",
    "print(aggregated)\n",
    "    \n"
   ]
  },
  {
   "cell_type": "code",
   "execution_count": 39,
   "id": "a46ad902",
   "metadata": {},
   "outputs": [
    {
     "name": "stdout",
     "output_type": "stream",
     "text": [
      "[1, 2, 5, 25]\n"
     ]
    }
   ],
   "source": [
    "# 7) Умовна заміна елементів: заміна елементів на основі стану.\n",
    " \n",
    "data = [1, -3, 2, -4, 5, -6, 25, 0]\n",
    "result = []\n",
    "\n",
    "for num in data:\n",
    "    if num > 0:\n",
    "        result.append(num)\n",
    "\n",
    "print(result)"
   ]
  },
  {
   "cell_type": "code",
   "execution_count": 43,
   "id": "a1d778cf",
   "metadata": {},
   "outputs": [
    {
     "name": "stdout",
     "output_type": "stream",
     "text": [
      "2\n"
     ]
    }
   ],
   "source": [
    "# 8) Підрахувати довжину рядків: підрахувати кількість рядків довжиною більше X. \n",
    "\n",
    "strings = [\"bar\", \"drunk\", \"dwarf\", \"resulted\", \"explosion\"]\n",
    "\n",
    "x = 5\n",
    "count = 0\n",
    "\n",
    "for string in strings:\n",
    "    if len(string) > x:\n",
    "        count += 1\n",
    "\n",
    "print(count)\n"
   ]
  },
  {
   "cell_type": "code",
   "execution_count": 56,
   "id": "cf8d5d76",
   "metadata": {},
   "outputs": [
    {
     "name": "stdout",
     "output_type": "stream",
     "text": [
      "['victory dance', 'Truth', 'alchemy jug']\n"
     ]
    }
   ],
   "source": [
    "# 9) Об’єднати чергування: об’єднувати рядки по черзі з двох списків. \n",
    "\n",
    "list1 = ['victory ', 'Tru', 'alchemy']\n",
    "list2 = ['dance', 'th', ' jug']\n",
    "merged = []\n",
    "\n",
    "for i in range (len(list1)):\n",
    "    merged.append(list1[i] + list2[i])\n",
    "\n",
    "print(merged)"
   ]
  },
  {
   "cell_type": "code",
   "execution_count": 60,
   "id": "9d8d91e6",
   "metadata": {},
   "outputs": [
    {
     "name": "stdout",
     "output_type": "stream",
     "text": [
      "[322, 501.0]\n"
     ]
    }
   ],
   "source": [
    "# 10) Помножити, якщо: помножити числа на Y, якщо вони більші за X.\n",
    "\n",
    "numbers = [10, 5, 161, 250.5]\n",
    "\n",
    "x = 10\n",
    "y = 2\n",
    "result = []\n",
    "\n",
    "for num in numbers:\n",
    "    if num > x:\n",
    "        result.append(num * y)\n",
    "    else:\n",
    "        None\n",
    "\n",
    "print(result)"
   ]
  }
 ],
 "metadata": {
  "kernelspec": {
   "display_name": "Python 3",
   "language": "python",
   "name": "python3"
  },
  "language_info": {
   "codemirror_mode": {
    "name": "ipython",
    "version": 3
   },
   "file_extension": ".py",
   "mimetype": "text/x-python",
   "name": "python",
   "nbconvert_exporter": "python",
   "pygments_lexer": "ipython3",
   "version": "3.13.3"
  }
 },
 "nbformat": 4,
 "nbformat_minor": 5
}
