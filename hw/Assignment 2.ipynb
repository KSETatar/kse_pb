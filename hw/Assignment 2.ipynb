{
 "cells": [
  {
   "cell_type": "code",
   "execution_count": 1,
   "id": "9ffd04e8",
   "metadata": {},
   "outputs": [
    {
     "name": "stdout",
     "output_type": "stream",
     "text": [
      "Hello, Python World!\n"
     ]
    }
   ],
   "source": [
    "# 1 Привіт світ\n",
    "\n",
    "message = \"Hello, Python World!\"\n",
    "\n",
    "print(message)"
   ]
  },
  {
   "cell_type": "code",
   "execution_count": 2,
   "id": "3a1cb503",
   "metadata": {},
   "outputs": [
    {
     "name": "stdout",
     "output_type": "stream",
     "text": [
      "результати додавання: 5 \n",
      "результати віднімання: 1 \n",
      "результати множення: 6 \n",
      "результати ділення: 1.5 \n"
     ]
    }
   ],
   "source": [
    "# 2 Основні математичні операції\n",
    "\n",
    "a = int(input(\"Введіть перше ціле число\"))\n",
    "b = int(input(\"Введіть друге ціле число\"))\n",
    "\n",
    "print(f\"результати додавання: {a + b} \")\n",
    "print(f\"результати віднімання: {a - b} \")\n",
    "print(f\"результати множення: {a * b} \")\n",
    "print(f\"результати ділення: {a / b} \")"
   ]
  },
  {
   "cell_type": "code",
   "execution_count": 2,
   "id": "f9423506",
   "metadata": {},
   "outputs": [
    {
     "name": "stdout",
     "output_type": "stream",
     "text": [
      "I cast FIREBALLL!\n",
      "Довжина об'єднання половинок: 17\n"
     ]
    }
   ],
   "source": [
    "# 3 Маніпуляція рядком\n",
    "\n",
    "line_1 = input(\"Перша половинка\")\n",
    "line_2 = input(\"Друга половинка\")\n",
    "\n",
    "Combo = (f\"{line_1} {line_2}\")\n",
    "\n",
    "print(Combo)\n",
    "print(f\"Довжина об'єднання половинок: {len(Combo)}\" )"
   ]
  },
  {
   "cell_type": "code",
   "execution_count": 38,
   "id": "c2b873e4",
   "metadata": {},
   "outputs": [
    {
     "name": "stdout",
     "output_type": "stream",
     "text": [
      "Непарне\n"
     ]
    }
   ],
   "source": [
    "# 4 Умовна логіка\n",
    "\n",
    "numbir = float(input(\"Введіть ваше число а ми вам скажемо парне воно чи не парне: \"))\n",
    "if numbir % 2 == 0:\n",
    "    print(\"Парне\")\n",
    "else:\n",
    "    print(\"Непарне\")"
   ]
  },
  {
   "cell_type": "code",
   "execution_count": 27,
   "id": "4c286f5d",
   "metadata": {},
   "outputs": [
    {
     "name": "stdout",
     "output_type": "stream",
     "text": [
      "1\n",
      "2\n",
      "3\n",
      "4\n",
      "5\n",
      "6\n",
      "7\n",
      "8\n",
      "9\n",
      "10\n"
     ]
    }
   ],
   "source": [
    "# 5 Простий цикл\n",
    "\n",
    "for i in range(1,11):\n",
    "    print(i)\n"
   ]
  },
  {
   "cell_type": "code",
   "execution_count": 5,
   "id": "70a16e2e",
   "metadata": {},
   "outputs": [
    {
     "name": "stdout",
     "output_type": "stream",
     "text": [
      "Нуль\n"
     ]
    }
   ],
   "source": [
    "# 6 Умови If-Else\n",
    "\n",
    "num = float(input(\"Введіть число: \"))\n",
    "if num > 0: \n",
    "    print(\"Позитивний\")\n",
    "elif num < 0: \n",
    "    print(\"Негативний\")\n",
    "else:\n",
    "    print(\"Нуль\")"
   ]
  },
  {
   "cell_type": "code",
   "execution_count": 28,
   "id": "f7e23a04",
   "metadata": {},
   "outputs": [
    {
     "name": "stdout",
     "output_type": "stream",
     "text": [
      "2\n",
      "4\n",
      "6\n",
      "8\n",
      "10\n"
     ]
    }
   ],
   "source": [
    "# 7 Парні числа з діапазоном\n",
    "\n",
    "for i in range(1,11):\n",
    "    if i % 2 != 0:\n",
    "        continue\n",
    "    print(i)\n",
    "\n"
   ]
  },
  {
   "cell_type": "code",
   "execution_count": 33,
   "id": "b6ef3e52",
   "metadata": {},
   "outputs": [
    {
     "name": "stdout",
     "output_type": "stream",
     "text": [
      "Cума від 1 до 10 = 55\n"
     ]
    }
   ],
   "source": [
    "# 8 Підсумовування чисел\n",
    "\n",
    "n = int(input(\"Введіть n: \"))\n",
    "total = 0\n",
    "for i in range (1, n+1):\n",
    "    total += i\n",
    "print(f\"Cума від 1 до {n} = {total}\")\n"
   ]
  },
  {
   "cell_type": "code",
   "execution_count": 37,
   "id": "3502541f",
   "metadata": {},
   "outputs": [
    {
     "name": "stdout",
     "output_type": "stream",
     "text": [
      "10\n",
      "9\n",
      "8\n",
      "7\n",
      "6\n",
      "5\n",
      "4\n",
      "3\n",
      "2\n",
      "1\n"
     ]
    }
   ],
   "source": [
    "# 9 Цикл зворотного відліку\n",
    "\n",
    "for i in range(10,0,-1):\n",
    "    print(i)"
   ]
  },
  {
   "cell_type": "code",
   "execution_count": 34,
   "id": "2284ab5e",
   "metadata": {},
   "outputs": [
    {
     "name": "stdout",
     "output_type": "stream",
     "text": [
      "1\n",
      "2\n",
      "3\n",
      "4\n",
      "6\n"
     ]
    }
   ],
   "source": [
    "# 10 Вибірковий цикл\n",
    "\n",
    "for i in range(1,11):\n",
    "    if i == 5:\n",
    "        continue\n",
    "    if i == 7:\n",
    "        break\n",
    "    print(i)"
   ]
  }
 ],
 "metadata": {
  "kernelspec": {
   "display_name": "Python 3",
   "language": "python",
   "name": "python3"
  },
  "language_info": {
   "codemirror_mode": {
    "name": "ipython",
    "version": 3
   },
   "file_extension": ".py",
   "mimetype": "text/x-python",
   "name": "python",
   "nbconvert_exporter": "python",
   "pygments_lexer": "ipython3",
   "version": "3.13.3"
  }
 },
 "nbformat": 4,
 "nbformat_minor": 5
}
