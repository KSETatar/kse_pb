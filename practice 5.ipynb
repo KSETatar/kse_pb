{
 "cells": [
  {
   "cell_type": "code",
   "execution_count": 1,
   "id": "aaa9bef9",
   "metadata": {},
   "outputs": [
    {
     "ename": "ValueError",
     "evalue": "could not convert string to float: ''",
     "output_type": "error",
     "traceback": [
      "\u001b[1;31m---------------------------------------------------------------------------\u001b[0m",
      "\u001b[1;31mValueError\u001b[0m                                Traceback (most recent call last)",
      "Cell \u001b[1;32mIn[1], line 2\u001b[0m\n\u001b[0;32m      1\u001b[0m \u001b[38;5;66;03m#1\u001b[39;00m\n\u001b[1;32m----> 2\u001b[0m thing \u001b[38;5;241m=\u001b[39m \u001b[38;5;28;43mfloat\u001b[39;49m\u001b[43m(\u001b[49m\u001b[38;5;28;43minput\u001b[39;49m\u001b[43m(\u001b[49m\u001b[38;5;124;43m\"\u001b[39;49m\u001b[38;5;124;43mВведіть ціну: \u001b[39;49m\u001b[38;5;124;43m\"\u001b[39;49m\u001b[43m)\u001b[49m\u001b[43m)\u001b[49m\n\u001b[0;32m      3\u001b[0m price \u001b[38;5;241m=\u001b[39m \u001b[38;5;28mfloat\u001b[39m(thing)\n\u001b[0;32m      5\u001b[0m \u001b[38;5;28;01mdef\u001b[39;00m \u001b[38;5;21mcalculate_vat\u001b[39m(price):\n",
      "\u001b[1;31mValueError\u001b[0m: could not convert string to float: ''"
     ]
    }
   ],
   "source": [
    "#1\n",
    "thing = float(input(\"Введіть ціну: \"))\n",
    "price = float(thing)\n",
    "\n",
    "def calculate_vat(price):\n",
    "  vat = price * 0.20\n",
    "  return vat\n",
    "\n",
    "print(f\"ПДВ ціни товару = {calculate_vat(price)}\")\n",
    "\n"
   ]
  },
  {
   "cell_type": "code",
   "execution_count": null,
   "id": "796faf15",
   "metadata": {},
   "outputs": [],
   "source": [
    "#2\n",
    "thing = float(input(\"USD: \"))\n",
    "amount = float(thing)\n",
    "uah = usd_to_uah(amount)\n",
    "\n",
    "def usd_to_uah(amount):\n",
    "  rate = amount * 39.5\n",
    "  return rate\n",
    "\n",
    "print(f\"UAH: {usd_to_uah(amount)}\")\n"
   ]
  },
  {
   "cell_type": "code",
   "execution_count": 2,
   "id": "87707165",
   "metadata": {},
   "outputs": [
    {
     "name": "stdout",
     "output_type": "stream",
     "text": [
      "[10800.0, 11880.0, 12711.6]\n"
     ]
    }
   ],
   "source": [
    "#Бонус\n",
    "def adjust_for_inflation(income, inflation_rates):\n",
    "  adjusted_incomes = []\n",
    "  for rate in inflation_rates:\n",
    "    income = income * (1 + rate)\n",
    "    adjusted_incomes.append(round(income, 1))\n",
    "  return adjusted_incomes\n",
    "print(adjust_for_inflation(10000, [0.08, 0.1, 0.07]))"
   ]
  }
 ],
 "metadata": {
  "kernelspec": {
   "display_name": "Python 3",
   "language": "python",
   "name": "python3"
  },
  "language_info": {
   "codemirror_mode": {
    "name": "ipython",
    "version": 3
   },
   "file_extension": ".py",
   "mimetype": "text/x-python",
   "name": "python",
   "nbconvert_exporter": "python",
   "pygments_lexer": "ipython3",
   "version": "3.13.3"
  }
 },
 "nbformat": 4,
 "nbformat_minor": 5
}
