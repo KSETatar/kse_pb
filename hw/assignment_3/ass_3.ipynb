{
 "cells": [
  {
   "cell_type": "code",
   "execution_count": null,
   "id": "eb5dae41",
   "metadata": {},
   "outputs": [],
   "source": [
    "# - Початковий рівень (10 завдань):"
   ]
  },
  {
   "cell_type": "code",
   "execution_count": 5,
   "id": "86e6e24f",
   "metadata": {},
   "outputs": [
    {
     "name": "stdout",
     "output_type": "stream",
     "text": [
      "404\n"
     ]
    }
   ],
   "source": [
    "# 1) Сума чисел: обчисліть суму чисел у списку.\n",
    "\n",
    "nums = [100, 303, 2, -1]\n",
    "\n",
    "def sum_list(nums):\n",
    "    return sum(nums)\n",
    "\n",
    "print(sum_list(nums))"
   ]
  },
  {
   "cell_type": "code",
   "execution_count": 8,
   "id": "84365e44",
   "metadata": {},
   "outputs": [
    {
     "name": "stdout",
     "output_type": "stream",
     "text": [
      "-501\n"
     ]
    }
   ],
   "source": [
    "# 2) Знайти мінімум: Визначити найменше число в списку.\n",
    "\n",
    "nums = [100, 303, 2, -501]\n",
    "\n",
    "def min_num(nums):\n",
    "    return min(nums)\n",
    "\n",
    "print(min_num(nums))"
   ]
  },
  {
   "cell_type": "code",
   "execution_count": 9,
   "id": "8a0fc485",
   "metadata": {},
   "outputs": [
    {
     "name": "stdout",
     "output_type": "stream",
     "text": [
      "[-501, 2, 303, 100]\n"
     ]
    }
   ],
   "source": [
    "# 3) Перевертання списку: перевертання елементів у списку.\n",
    "\n",
    "nums = [100, 303, 2, -501]\n",
    "\n",
    "def reverse_list(nums):\n",
    "    return nums[::-1]\n",
    "\n",
    "print(reverse_list(nums))\n",
    "\n",
    "\n",
    "\n",
    "\n"
   ]
  },
  {
   "cell_type": "code",
   "execution_count": 29,
   "id": "88613e10",
   "metadata": {},
   "outputs": [
    {
     "name": "stdout",
     "output_type": "stream",
     "text": [
      "[303, -501]\n"
     ]
    }
   ],
   "source": [
    "# 4) Друкувати непарні числа: відобразити всі непарні числа зі списку.\n",
    "\n",
    "nums = [100, 303, 2, -501]\n",
    "\n",
    "def odd_list(nums):\n",
    "    odd_nums = []\n",
    "    for n in nums:\n",
    "        if n % 2 != 0:\n",
    "            odd_nums.append(n)\n",
    "    return odd_nums\n",
    "\n",
    "print(odd_list(nums))\n",
    "\n"
   ]
  },
  {
   "cell_type": "code",
   "execution_count": 30,
   "id": "f38039e7",
   "metadata": {},
   "outputs": [
    {
     "name": "stdout",
     "output_type": "stream",
     "text": [
      "[200, 606, 4, -1002]\n"
     ]
    }
   ],
   "source": [
    "# 5) Помножити список: помножити кожен елемент у списку на задане число.\n",
    "\n",
    "nums = [100, 303, 2, -501]\n",
    "\n",
    "x = 2\n",
    "\n",
    "def multiply_by_x(nums):\n",
    "    return [n * x for n in nums]\n",
    "\n",
    "print(multiply_by_x(nums))\n",
    "\n"
   ]
  },
  {
   "cell_type": "code",
   "execution_count": null,
   "id": "4e73fcf3",
   "metadata": {},
   "outputs": [],
   "source": [
    "# - Легкий рівень (10 завдань):"
   ]
  },
  {
   "cell_type": "code",
   "execution_count": 38,
   "id": "e830bcd7",
   "metadata": {},
   "outputs": [
    {
     "name": "stdout",
     "output_type": "stream",
     "text": [
      "Число Х: 50\n",
      "Числа більші за X із відповідного списку: [100, 303]\n"
     ]
    }
   ],
   "source": [
    "# 1) Фільтрувати за умовою: витягувати зі списку числа, більші за X.\n",
    "\n",
    "nums = [100, 303, 2, -501]\n",
    "\n",
    "x = 50\n",
    "\n",
    "result = []\n",
    "\n",
    "for num in nums:\n",
    "    if num > x:\n",
    "        result.append(num)\n",
    "\n",
    "print(f\"Число Х: {x}\")\n",
    "print(f\"Числа більші за X із відповідного списку: {result}\")\n",
    "\n"
   ]
  },
  {
   "cell_type": "code",
   "execution_count": 35,
   "id": "38bab0f9",
   "metadata": {},
   "outputs": [
    {
     "name": "stdout",
     "output_type": "stream",
     "text": [
      "135\n"
     ]
    }
   ],
   "source": [
    "# 2) Середнє додатних чисел: Знайдіть середнє додатних чисел. \n",
    "\n",
    "import statistics as stat\n",
    "\n",
    "nums = [100, 303, 2, -501]\n",
    "\n",
    "def positive_averaga(nums):\n",
    "    positive_nums = [n for n in nums if n > 0]\n",
    "    return stat.mean(positive_nums)\n",
    "\n",
    "print(positive_averaga(nums))"
   ]
  },
  {
   "cell_type": "code",
   "execution_count": 60,
   "id": "52f87d1a",
   "metadata": {},
   "outputs": [
    {
     "name": "stdout",
     "output_type": "stream",
     "text": [
      "Число Х: 144\n",
      "Максимум у відфільтрованому списку: максимальна кількість чисел менших за X: 3\n"
     ]
    }
   ],
   "source": [
    "# 3) Максимум у відфільтрованому списку: знайдіть максимальну кількість чисел, менших за X.\n",
    "\n",
    "nums = [100, 303, 2, -501]\n",
    "\n",
    "x = 144\n",
    "\n",
    "def max_nums_less_than_x(nums):\n",
    "    filtered_nums = [n for n in nums if n < x]\n",
    "    return len(filtered_nums)\n",
    "\n",
    "print(f\"Число Х: {x}\")\n",
    "print(f\"Максимум у відфільтрованому списку: максимальна кількість чисел менших за X: {max_nums_less_than_x(nums)}\")\n"
   ]
  },
  {
   "cell_type": "code",
   "execution_count": null,
   "id": "c39df1be",
   "metadata": {},
   "outputs": [
    {
     "name": "stdout",
     "output_type": "stream",
     "text": [
      "102\n"
     ]
    }
   ],
   "source": [
    "# 4) Агрегована умовна сума: сума чисел, які діляться на Y. \n",
    "\n",
    "nums = [100, 303, 2, -501]\n",
    "\n",
    "y=2\n",
    "\n",
    "def sum_of_num_divisible_by_y(nums):\n",
    "    sum_of_num = 0\n",
    "    for n in nums:\n",
    "        if n % y == 0:\n",
    "            sum_of_num += n\n",
    "    return sum_of_num\n",
    "\n",
    "print(sum_of_num_divisible_by_y(nums))"
   ]
  },
  {
   "cell_type": "code",
   "execution_count": 75,
   "id": "27d90519",
   "metadata": {},
   "outputs": [
    {
     "name": "stdout",
     "output_type": "stream",
     "text": [
      "[10000, 169, 4, 144]\n"
     ]
    }
   ],
   "source": [
    "# 5) Список квадратів: створіть список квадратів кожного числа.\n",
    "\n",
    "nums = [100, 13, 2, -12]\n",
    "\n",
    "def square_list(nums):\n",
    "    return [n ** 2 for n in nums]\n",
    "\n",
    "print(square_list(nums))"
   ]
  },
  {
   "cell_type": "code",
   "execution_count": 82,
   "id": "2e664a18",
   "metadata": {},
   "outputs": [
    {
     "name": "stdout",
     "output_type": "stream",
     "text": [
      "[100, 13, 2]\n"
     ]
    }
   ],
   "source": [
    "# 6) Витяг додатних чисел: створіть новий список лише з додатними числами з заданого списку. \n",
    "\n",
    "nums = [100, 13, 2, -12]\n",
    "\n",
    "def no_negatives(nums):\n",
    "    return [n for n in nums if n >= 0]\n",
    "\n",
    "print(no_negatives(nums))"
   ]
  },
  {
   "cell_type": "code",
   "execution_count": 101,
   "id": "02fbc39b",
   "metadata": {},
   "outputs": [
    {
     "name": "stdout",
     "output_type": "stream",
     "text": [
      "[100, 13]\n"
     ]
    }
   ],
   "source": [
    "# 7) Фільтрувати рядки за префіксом: знайти всі рядки в списку, які починаються з указаного префікса. \n",
    "\n",
    "nums = [100, 13, 2, -12]\n",
    "\n",
    "def filter_by_prefix(nums):\n",
    "    return [n for n in nums if str(n).startswith('1')]\n",
    "\n",
    "print(filter_by_prefix(nums))\n"
   ]
  },
  {
   "cell_type": "code",
   "execution_count": 1,
   "id": "a68da122",
   "metadata": {},
   "outputs": [
    {
     "name": "stdout",
     "output_type": "stream",
     "text": [
      "115\n"
     ]
    }
   ],
   "source": [
    "# 8) Сума перших N чисел: обчисліть суму перших N чисел у списку. \n",
    "\n",
    "nums = [100, 13, 2, -12]\n",
    "\n",
    "n = 3 \n",
    "\n",
    "def sum_of_first_n_nums(nums, n):\n",
    "    return sum(nums[:n])\n",
    "\n",
    "print(sum_of_first_n_nums(nums, n))\n"
   ]
  },
  {
   "cell_type": "code",
   "execution_count": 109,
   "id": "b3755fbf",
   "metadata": {},
   "outputs": [
    {
     "name": "stdout",
     "output_type": "stream",
     "text": [
      "[101, 303, 2]\n"
     ]
    }
   ],
   "source": [
    "# 9) Знайти всі паліндроми: видобути всі паліндромні рядки зі списку. \n",
    "\n",
    "nums = [101, 303, 2, -501]\n",
    "\n",
    "def palindromes(nums):\n",
    "    return [n for n in nums if str(n) == str(n)[::-1]]\n",
    "\n",
    "print(palindromes(nums))"
   ]
  },
  {
   "cell_type": "code",
   "execution_count": null,
   "id": "369195cd",
   "metadata": {},
   "outputs": [
    {
     "name": "stdout",
     "output_type": "stream",
     "text": [
      "[True, False, True, False]\n"
     ]
    }
   ],
   "source": [
    "# 10) Перевірка подільності: зі списку чисел створіть новий список логічних значень,\n",
    "#     де кожен елемент вказує, чи ділиться відповідне число на даний дільник.\n",
    " \n",
    "nums = [100, 303, 2, -501]\n",
    "\n",
    "x = 2\n",
    "\n",
    "def check_for_divisibility(nums):\n",
    "    return [n % x == 0 for n in nums]\n",
    "\n",
    "print(check_for_divisibility(nums))"
   ]
  },
  {
   "cell_type": "code",
   "execution_count": null,
   "id": "9ca34a23",
   "metadata": {},
   "outputs": [],
   "source": [
    "# - Середній рівень (10 завдань):"
   ]
  },
  {
   "cell_type": "code",
   "execution_count": null,
   "id": "accce10a",
   "metadata": {},
   "outputs": [],
   "source": [
    "# 1) Фільтрувати за кількома умовами: числа, які діляться на X, але не діляться на Y. \n",
    "\n",
    "numbers = list(range(1, 101))\n",
    "\n",
    "x = float(input(\"Введіть число X: \"))\n",
    "y = float(input(\"Введіть число Y:\"))\n",
    "\n",
    "result = [] \n",
    "\n",
    "for num in numbers:\n",
    "    if num % x == 0 and num % y !=0:\n",
    "        result.append(num)\n",
    "\n",
    "print(f\"Числа які діляться на число X, але не діляться на число Y: {result}\")"
   ]
  },
  {
   "cell_type": "code",
   "execution_count": null,
   "id": "7c229dcf",
   "metadata": {},
   "outputs": [
    {
     "name": "stdout",
     "output_type": "stream",
     "text": [
      "[1, 2, 3, 4, 5, 6]\n"
     ]
    }
   ],
   "source": [
    "# 2) Зведення вкладених списків: зведення списку списків в єдиний список.\n",
    "\n",
    "listoflists = [[1,2], [3,4], [5, 6]]\n",
    "\n",
    "jedinylist = []\n",
    "\n",
    "for sublist in listoflists:\n",
    "    for item in sublist:\n",
    "        jedinylist.append(item)\n",
    "\n",
    "print(jedinylist)"
   ]
  },
  {
   "cell_type": "code",
   "execution_count": 7,
   "id": "00bc93a4",
   "metadata": {},
   "outputs": [
    {
     "name": "stdout",
     "output_type": "stream",
     "text": [
      "['I', 'F', 'I', 'R', 'E', 'B', 'A', 'L', 'L', 'L']\n"
     ]
    }
   ],
   "source": [
    "# 3) Складна маніпуляція рядками: виділіть і введіть великі літери в окремих підрядках. \n",
    "\n",
    "text = \"I cast FIREBALLL!!!\"\n",
    "capitals = []\n",
    "\n",
    "for char in text:\n",
    "    if char.isupper():\n",
    "        capitals.append(char)\n",
    "\n",
    "print(capitals)"
   ]
  },
  {
   "cell_type": "code",
   "execution_count": 62,
   "id": "ab1fa20c",
   "metadata": {},
   "outputs": [
    {
     "name": "stdout",
     "output_type": "stream",
     "text": [
      "[0, 0, 0, 1337, 1337, 420, 420, 404, 69]\n",
      "[1337, 1337, 420, 420, 404, 69, 0, 0, 0]\n"
     ]
    }
   ],
   "source": [
    "# 4) Багаторівневе сортування: сортування за спаданням, потім за частотою. \n",
    "\n",
    "# варіант 2. Ви сортуєте за частотою, а потім отриманий результат за спаданням\n",
    "\n",
    "import collections as col\n",
    "\n",
    "numbers = [0, 1337, 420, 404, 69, 420, 1337, 0, 0]\n",
    "frequency = col.Counter(numbers)\n",
    "\n",
    "sort_by_frequncy = sorted(numbers, key=lambda x: (frequency[x], x), reverse=True)\n",
    "\n",
    "print(sort_by_frequncy)\n",
    "\n",
    "sort_final = sorted(sort_by_frequncy, key=lambda x: -x)\n",
    "\n",
    "print(sort_final)\n",
    "\n"
   ]
  },
  {
   "cell_type": "code",
   "execution_count": 50,
   "id": "2f8b671c",
   "metadata": {},
   "outputs": [
    {
     "name": "stdout",
     "output_type": "stream",
     "text": [
      "[1, 2, 3, 4, 5, 6, 9]\n"
     ]
    }
   ],
   "source": [
    "# 5) Об’єднати списки умовно: об’єднати два списки на основі умов.\n",
    "\n",
    "list1=[1, 2, 3, 4, 5]\n",
    "list2=[4, 6, 9, 5]\n",
    "list3 = []\n",
    "\n",
    "for items in (list1, list2):\n",
    "    for item in items:\n",
    "        if item not in list3:\n",
    "            list3.append(item)\n",
    "\n",
    "print(list3)"
   ]
  },
  {
   "cell_type": "code",
   "execution_count": 34,
   "id": "0d1d793d",
   "metadata": {},
   "outputs": [
    {
     "name": "stdout",
     "output_type": "stream",
     "text": [
      "{'a': 4, 'b': 2, 'c': 6}\n"
     ]
    }
   ],
   "source": [
    "# 6) Агрегація словника: сума значень у словнику за ключем.\n",
    "\n",
    "data = [{'a': 1, 'b': 2}, {'a': 3, 'c': 6}]\n",
    "aggregated = {}\n",
    "\n",
    "for dictionary in data:\n",
    "    for key in dictionary:\n",
    "        if key in aggregated:\n",
    "            aggregated[key] += dictionary[key]\n",
    "        else: \n",
    "            aggregated[key] = dictionary[key]\n",
    "\n",
    "print(aggregated)\n",
    "    \n"
   ]
  },
  {
   "cell_type": "code",
   "execution_count": 39,
   "id": "a46ad902",
   "metadata": {},
   "outputs": [
    {
     "name": "stdout",
     "output_type": "stream",
     "text": [
      "[1, 2, 5, 25]\n"
     ]
    }
   ],
   "source": [
    "# 7) Умовна заміна елементів: заміна елементів на основі стану.\n",
    " \n",
    "data = [1, -3, 2, -4, 5, -6, 25, 0]\n",
    "result = []\n",
    "\n",
    "for num in data:\n",
    "    if num > 0:\n",
    "        result.append(num)\n",
    "\n",
    "print(result)"
   ]
  },
  {
   "cell_type": "code",
   "execution_count": 43,
   "id": "a1d778cf",
   "metadata": {},
   "outputs": [
    {
     "name": "stdout",
     "output_type": "stream",
     "text": [
      "2\n"
     ]
    }
   ],
   "source": [
    "# 8) Підрахувати довжину рядків: підрахувати кількість рядків довжиною більше X. \n",
    "\n",
    "strings = [\"bar\", \"drunk\", \"dwarf\", \"resulted\", \"explosion\"]\n",
    "\n",
    "x = 5\n",
    "count = 0\n",
    "\n",
    "for string in strings:\n",
    "    if len(string) > x:\n",
    "        count += 1\n",
    "\n",
    "print(count)\n"
   ]
  },
  {
   "cell_type": "code",
   "execution_count": 56,
   "id": "cf8d5d76",
   "metadata": {},
   "outputs": [
    {
     "name": "stdout",
     "output_type": "stream",
     "text": [
      "['victory dance', 'Truth', 'alchemy jug']\n"
     ]
    }
   ],
   "source": [
    "# 9) Об’єднати чергування: об’єднувати рядки по черзі з двох списків. \n",
    "\n",
    "list1 = ['victory ', 'Tru', 'alchemy']\n",
    "list2 = ['dance', 'th', ' jug']\n",
    "merged = []\n",
    "\n",
    "for i in range (len(list1)):\n",
    "    merged.append(list1[i] + list2[i])\n",
    "\n",
    "print(merged)"
   ]
  },
  {
   "cell_type": "code",
   "execution_count": null,
   "id": "9d8d91e6",
   "metadata": {},
   "outputs": [
    {
     "name": "stdout",
     "output_type": "stream",
     "text": [
      "[322, 501.0]\n"
     ]
    }
   ],
   "source": [
    "# 10) Помножити, якщо: помножити числа на Y, якщо вони більші за X.\n",
    "\n",
    "numbers = [10, 5, 161, 250.5]\n",
    "\n",
    "x = 10\n",
    "y = 2\n",
    "result = []\n",
    "\n",
    "for num in numbers:\n",
    "    if num > x:\n",
    "        result.append(num * y)\n",
    "    else:\n",
    "        None\n",
    "\n",
    "print(result)"
   ]
  }
 ],
 "metadata": {
  "kernelspec": {
   "display_name": "Python 3",
   "language": "python",
   "name": "python3"
  },
  "language_info": {
   "codemirror_mode": {
    "name": "ipython",
    "version": 3
   },
   "file_extension": ".py",
   "mimetype": "text/x-python",
   "name": "python",
   "nbconvert_exporter": "python",
   "pygments_lexer": "ipython3",
   "version": "3.13.3"
  }
 },
 "nbformat": 4,
 "nbformat_minor": 5
}
